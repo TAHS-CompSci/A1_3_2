{
 "cells": [
  {
   "cell_type": "code",
   "execution_count": 4,
   "metadata": {},
   "outputs": [],
   "source": [
    "5 + 3 #simple stuff\n",
    "\n",
    "5 +3.\n",
    "\n",
    "7 * 2\n",
    "\n",
    "7 * 2. #floating points change outcome\n",
    "\n",
    "7 / 2\n",
    "\n",
    "7 / 2. \n",
    "\n",
    "a = 2 #assigned Variable\n",
    "\n",
    "7 ** 2 #exponent\n",
    "\n",
    "abs(-7) #absolute value \n",
    "\n",
    "student_age = 17\n"
   ]
  },
  {
   "cell_type": "code",
   "execution_count": 7,
   "metadata": {},
   "outputs": [
    {
     "data": {
      "text/plain": [
       "34.5"
      ]
     },
     "execution_count": 7,
     "metadata": {},
     "output_type": "execute_result"
    }
   ],
   "source": [
    "def add_tip(total, tip_percent):\n",
    "    tip = tip_percent * total\n",
    "    return total + tip\n",
    "a = add_tip(30, 0.15)\n",
    "a"
   ]
  },
  {
   "cell_type": "code",
   "execution_count": 13,
   "metadata": {},
   "outputs": [
    {
     "data": {
      "text/plain": [
       "5.0"
      ]
     },
     "execution_count": 13,
     "metadata": {},
     "output_type": "execute_result"
    }
   ],
   "source": [
    "def hyp(side_1, side_2):\n",
    "    side_3 = side_1 ** 2 + side_2 ** 2\n",
    "    return side_3 ** .5\n",
    "h = hyp(3, 4)\n",
    "h"
   ]
  },
  {
   "cell_type": "code",
   "execution_count": 16,
   "metadata": {
    "scrolled": true
   },
   "outputs": [
    {
     "data": {
      "text/plain": [
       "4.666666666666667"
      ]
     },
     "execution_count": 16,
     "metadata": {},
     "output_type": "execute_result"
    }
   ],
   "source": [
    "def mean(v_1, v_2, v_3):\n",
    "    v_t = v_1 + v_2 + v_3\n",
    "    return v_t / 3\n",
    "m = mean(3, 4, 7)\n",
    "m"
   ]
  },
  {
   "cell_type": "code",
   "execution_count": 32,
   "metadata": {},
   "outputs": [
    {
     "name": "stdout",
     "output_type": "stream",
     "text": [
      "26.0\n"
     ]
    }
   ],
   "source": [
    "guess = 13\n",
    "def hiLo_game(guess, change):\n",
    "    change = guess ** 2 + guess\n",
    "    return change / 7\n",
    "change = hiLo_game(guess, change)\n",
    "print(change)"
   ]
  },
  {
   "cell_type": "markdown",
   "metadata": {},
   "source": [
    "We are using Python 3.7 \n",
    "\n",
    "var = value/expression #Assignment statement \n",
    "\n",
    "mnemonic variables have a meaning \n",
    "\n",
    "= -> assignment operator \n",
    "\n",
    "Variable Rules(function names as well):\n",
    "- Start with a lowercase or an underscore \n",
    "- can include:\n",
    "- upeercase, lowercase, numbers, and underscores\n",
    "- NO SPACES ... EVER!!!\n",
    "* Camelcase - thisIsAtest\n",
    "* underscore - this_is_a_test\n",
    "\n",
    "Relational operators:\n",
    "* != -> not equal\n",
    "* == -> equal \n",
    "* > -> greater than \n",
    "* < -> Less than\n",
    "* >= -> greater than or equal to\n",
    "* <= -> less than or equal to\n",
    "\n",
    "Value:\n",
    "- integer\n",
    "- String\n",
    "- float \n",
    "- boolean \n",
    "\n",
    "Expression:\n",
    "- + (Addition)\n",
    "- - (Subtraction)\n",
    "- * (Multiplication)\n",
    "- / (Floatiing point Division)\n",
    "- // (Integer Division) \n",
    "- % (mod, modulous, remainder)\n",
    "- ** (Exponentiation)\n",
    "\n",
    "Scope 0|\n",
    "def funcName([Argument]-> parameters when creating, argument when using):\n",
    "scope 1-> var = var + 1\n",
    "          for x in range(100):\n",
    "          Scope 2-> if x == \"this\"\n",
    "                    scope 3-> print(\"that\")\n",
    "               else:\n",
    "                    print(\"not\")\n",
    "          print(\"done\")\n",
    "funcName()\n",
    "\n",
    "Every scope(or tab) == 4 spaces \n",
    "\n"
   ]
  }
 ],
 "metadata": {
  "kernelspec": {
   "display_name": "Python 3",
   "language": "python",
   "name": "python3"
  },
  "language_info": {
   "codemirror_mode": {
    "name": "ipython",
    "version": 3
   },
   "file_extension": ".py",
   "mimetype": "text/x-python",
   "name": "python",
   "nbconvert_exporter": "python",
   "pygments_lexer": "ipython3",
   "version": "3.7.4"
  }
 },
 "nbformat": 4,
 "nbformat_minor": 2
}
