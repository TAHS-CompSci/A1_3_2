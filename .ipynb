{
 "cells": [
  {
   "cell_type": "code",
   "execution_count": null,
   "metadata": {},
   "outputs": [],
   "source": [
    "branching/decision structures\n",
    "Boolean Logic : statement evalueates to true or false\n",
    "    include and, or & not for greater complexity\n",
    "    and : both conditions must be true to evalueate as true\n",
    "        if x > 5 and x < 10:\n",
    "            print (\"true\")\n",
    "    or : either condition can be met to evalueate as true - both conditions must be false\n",
    "        to evalueate as such.\n",
    "    if x > 5 : \n",
    "        print(\"true\")\n",
    "    if x < 10 :\n",
    "        print(\"true\")\n",
    "    if x == 3:\n",
    "        print(\"true\")\n",
    "        "
   ]
  }
 ],
 "metadata": {
  "kernelspec": {
   "display_name": "Python 3",
   "language": "python",
   "name": "python3"
  },
  "language_info": {
   "codemirror_mode": {
    "name": "ipython",
    "version": 3
   },
   "file_extension": ".py",
   "mimetype": "text/x-python",
   "name": "python",
   "nbconvert_exporter": "python",
   "pygments_lexer": "ipython3",
   "version": "3.7.4"
  }
 },
 "nbformat": 4,
 "nbformat_minor": 2
}
