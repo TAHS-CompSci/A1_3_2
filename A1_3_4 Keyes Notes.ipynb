{
 "cells": [
  {
   "cell_type": "code",
   "execution_count": null,
   "metadata": {},
   "outputs": [],
   "source": [
    "Nested Branching = Nesting\n",
    "    Adds additional complexity to a decision structure\n",
    "    if\n",
    "        if\n",
    "            if\n",
    "                if\n",
    "                elif\n",
    "                else\n",
    "            else\n",
    "        \n",
    "        else\n",
    "    else\n",
    "    \n",
    "    Use Cases:\n",
    "        Quizzes\n",
    "        multiple choice\n",
    "        stories\n",
    "        chance\n",
    "        item drops\n",
    "    debugging:\n",
    "        check to make sure it works\n",
    "        process of finding out what went wrong\n",
    "        \n",
    "    Code in small segments\n",
    "    test code -using print\n",
    "    \n",
    "Input: the process of bringing user information into your program for some designated use.\n",
    "    *Beware of user data! this is a common attack vector*\n",
    "Python 2.7\n",
    "    input(\"enter a number: \") = eval(): evalueater a value or expression ant turn it into the appropriate number.\n",
    "raw_input(\"enter a strinh: \") = brought in all information as a string.\n",
    "\n",
    "Python 3.x\n",
    "    input(prompt[str]) = all information is a string\n",
    "    \n",
    "Casting = temporarily change a values data type.\n",
    "    x = 3\n",
    "    float(3)\n",
    "out[]: 3.0\n",
    "    str(3)\n",
    "out[]: \"3\" = you will not see the quotes\n",
    "    all of the above is temporary!\n",
    "    use a variable to hold the new value,\n",
    "    x = 3\n",
    "    x = float(3)\n",
    "    print(x)\n",
    "    3.0\n",
    "    type(x)\n",
    "    .float"
   ]
  }
 ],
 "metadata": {
  "kernelspec": {
   "display_name": "Python 3",
   "language": "python",
   "name": "python3"
  },
  "language_info": {
   "codemirror_mode": {
    "name": "ipython",
    "version": 3
   },
   "file_extension": ".py",
   "mimetype": "text/x-python",
   "name": "python",
   "nbconvert_exporter": "python",
   "pygments_lexer": "ipython3",
   "version": "3.7.4"
  }
 },
 "nbformat": 4,
 "nbformat_minor": 2
}
